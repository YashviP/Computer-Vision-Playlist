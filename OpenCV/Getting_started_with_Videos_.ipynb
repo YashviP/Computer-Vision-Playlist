{
  "nbformat": 4,
  "nbformat_minor": 0,
  "metadata": {
    "colab": {
      "name": "Getting-started-with-Videos .ipynb",
      "provenance": [],
      "collapsed_sections": [],
      "authorship_tag": "ABX9TyMt4tXBbZbHuFyw2rE2KWv1",
      "include_colab_link": true
    },
    "kernelspec": {
      "display_name": "Python 3",
      "name": "python3"
    },
    "language_info": {
      "name": "python"
    }
  },
  "cells": [
    {
      "cell_type": "markdown",
      "metadata": {
        "id": "view-in-github",
        "colab_type": "text"
      },
      "source": [
        "<a href=\"https://colab.research.google.com/github/YashviP/Computer-Vision-Playlist/blob/main/OpenCV/Getting_started_with_Videos_.ipynb\" target=\"_parent\"><img src=\"https://colab.research.google.com/assets/colab-badge.svg\" alt=\"Open In Colab\"/></a>"
      ]
    },
    {
      "cell_type": "code",
      "metadata": {
        "id": "Hh1BkN8ExkOo"
      },
      "source": [
        "import numpy as np\n",
        "import cv2\n",
        "from google.colab.patches import cv2_imshow"
      ],
      "execution_count": null,
      "outputs": []
    },
    {
      "cell_type": "markdown",
      "metadata": {
        "id": "6Ah8XJoqAHha"
      },
      "source": [
        "## Reading/writing a video"
      ]
    },
    {
      "cell_type": "code",
      "metadata": {
        "id": "389GA54l2-t0"
      },
      "source": [
        "# Loading Video in Grayscale\n",
        "input_video = cv2.VideoCapture('/content/sd.mp4')\n",
        "fps = input_video.get(cv2.CAP_PROP_FPS) # To get Frame per sec \n",
        "size = (int(input_video.get(cv2.CAP_PROP_FRAME_WIDTH)),\n",
        "        int(input_video.get(cv2.CAP_PROP_FRAME_HEIGHT))) # To get frame width and height\n",
        "codec = cv2.VideoWriter_fourcc(*'XVID') \n",
        "videoWriter = cv2.VideoWriter('Output.avi',codec,\n",
        "                              fps, size,isColor=False)\n",
        "ret, frame = input_video.read()\n",
        "while ret:\n",
        "      gray = cv2.cvtColor(frame, cv2.COLOR_BGR2GRAY)\n",
        "      videoWriter.write(gray)\n",
        "      ret, frame = input_video.read()\n",
        "\n",
        "input_video.release()"
      ],
      "execution_count": null,
      "outputs": []
    },
    {
      "cell_type": "markdown",
      "metadata": {
        "id": "CkoaFQAZ_or-"
      },
      "source": [
        "**FOURCC** is short for \"four character code\" - an identifier for a video codec, compression format, color or pixel format used in media files.\n",
        "\n",
        "A character in this context is a 1 byte/8 bit value, thus a FOURCC always takes up exactly 32 bits/4 bytes in a file.\n",
        "\n",
        "\n",
        "The available codecs may vary from system to system.\n",
        "\n",
        "```cv2.VideoWriter_fourcc('I','4','2','0') ``` : For uncompressed YUV encoding, 4:2:0 chroma subsampled. This encoding is widely compatible but produces large files. The file extension should be .avi.\n",
        "\n",
        "```cv2.VideoWriter_fourcc('P','I','M','1')``` : for MPEG-1. The file extension should be .avi.\n",
        "\n",
        "```cv2.VideoWriter_fourcc('X','V','I','D')``` :  old MPEG-4 encoding. It is a good option if you want to limit the size of the resulting video. The file extension should be .avi.\n",
        "\n",
        "```cv2.VideoWriter_fourcc('M','P','4','V')```: It is a good option if you want to limit the size of the resulting video. The file extension should be .mp4.\n",
        "\n",
        "\n",
        "You can find list of available codes from https://www.fourcc.org/codecs.php\n",
        "\n",
        "\n",
        " "
      ]
    },
    {
      "cell_type": "code",
      "metadata": {
        "id": "SjIzkqTZELUz"
      },
      "source": [
        "input_video = cv2.VideoCapture('/content/sd.mp4')\n",
        "fps = input_video.get(cv2.CAP_PROP_FPS) # To get Frame per sec \n",
        "size = (int(input_video.get(cv2.CAP_PROP_FRAME_WIDTH)),\n",
        "        int(input_video.get(cv2.CAP_PROP_FRAME_HEIGHT))) # To get frame width and height \n",
        "videoWriter = cv2.VideoWriter(\n",
        "    'Output.avi', cv2.VideoWriter_fourcc('X','V','I','D'),\n",
        "    fps, size)\n",
        "ret, frame = input_video.read()\n",
        "while ret:\n",
        "      frame_flip=cv2.flip(frame,0)\n",
        "      videoWriter.write(frame_flip)\n",
        "      ret, frame = input_video.read()"
      ],
      "execution_count": null,
      "outputs": []
    },
    {
      "cell_type": "markdown",
      "metadata": {
        "id": "kEdgzxGuEYEt"
      },
      "source": [
        "Flip code - flag to specify how to flip image\n",
        "\n",
        "**0** -  means flipping around the x-axis and positive \n",
        "\n",
        "**1** -  means flipping around y-axis. Negative value\n",
        "\n",
        "**-1** - means flipping around both axes."
      ]
    }
  ]
}